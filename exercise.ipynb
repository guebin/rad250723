{
 "cells": [
  {
   "cell_type": "code",
   "execution_count": null,
   "id": "8067b05f",
   "metadata": {},
   "outputs": [],
   "source": [
    "pip install autogluon --extra-index-url https://download.pytorch.org/whl/cpu"
   ]
  },
  {
   "cell_type": "code",
   "execution_count": 1,
   "id": "87581d11",
   "metadata": {},
   "outputs": [
    {
     "name": "stderr",
     "output_type": "stream",
     "text": [
      "/home/cgb2/anaconda3/envs/yechan/lib/python3.11/site-packages/tqdm/auto.py:21: TqdmWarning: IProgress not found. Please update jupyter and ipywidgets. See https://ipywidgets.readthedocs.io/en/stable/user_install.html\n",
      "  from .autonotebook import tqdm as notebook_tqdm\n"
     ]
    }
   ],
   "source": [
    "import pandas as pd\n",
    "import numpy as np\n",
    "import matplotlib.pyplot as plt\n",
    "import seaborn as sns\n",
    "from sklearn.model_selection import train_test_split\n",
    "from sklearn.tree import DecisionTreeClassifier\n",
    "from autogluon.tabular import TabularPredictor"
   ]
  },
  {
   "cell_type": "code",
   "execution_count": null,
   "id": "9aa9c940",
   "metadata": {},
   "outputs": [],
   "source": [
    "!wget https://raw.githubusercontent.com/guebin/rad250723/main/titanic.csv"
   ]
  },
  {
   "cell_type": "code",
   "execution_count": null,
   "id": "ec41c89f",
   "metadata": {},
   "outputs": [
    {
     "data": {
      "text/html": [
       "<div>\n",
       "<style scoped>\n",
       "    .dataframe tbody tr th:only-of-type {\n",
       "        vertical-align: middle;\n",
       "    }\n",
       "\n",
       "    .dataframe tbody tr th {\n",
       "        vertical-align: top;\n",
       "    }\n",
       "\n",
       "    .dataframe thead th {\n",
       "        text-align: right;\n",
       "    }\n",
       "</style>\n",
       "<table border=\"1\" class=\"dataframe\">\n",
       "  <thead>\n",
       "    <tr style=\"text-align: right;\">\n",
       "      <th></th>\n",
       "      <th>PassengerId</th>\n",
       "      <th>Survived</th>\n",
       "      <th>Pclass</th>\n",
       "      <th>Name</th>\n",
       "      <th>Sex</th>\n",
       "      <th>Age</th>\n",
       "      <th>SibSp</th>\n",
       "      <th>Parch</th>\n",
       "      <th>Ticket</th>\n",
       "      <th>Fare</th>\n",
       "      <th>Cabin</th>\n",
       "      <th>Embarked</th>\n",
       "    </tr>\n",
       "  </thead>\n",
       "  <tbody>\n",
       "    <tr>\n",
       "      <th>0</th>\n",
       "      <td>1</td>\n",
       "      <td>0</td>\n",
       "      <td>3</td>\n",
       "      <td>Braund, Mr. Owen Harris</td>\n",
       "      <td>male</td>\n",
       "      <td>22.0</td>\n",
       "      <td>1</td>\n",
       "      <td>0</td>\n",
       "      <td>A/5 21171</td>\n",
       "      <td>7.2500</td>\n",
       "      <td>NaN</td>\n",
       "      <td>S</td>\n",
       "    </tr>\n",
       "    <tr>\n",
       "      <th>1</th>\n",
       "      <td>2</td>\n",
       "      <td>1</td>\n",
       "      <td>1</td>\n",
       "      <td>Cumings, Mrs. John Bradley (Florence Briggs Th...</td>\n",
       "      <td>female</td>\n",
       "      <td>38.0</td>\n",
       "      <td>1</td>\n",
       "      <td>0</td>\n",
       "      <td>PC 17599</td>\n",
       "      <td>71.2833</td>\n",
       "      <td>C85</td>\n",
       "      <td>C</td>\n",
       "    </tr>\n",
       "    <tr>\n",
       "      <th>2</th>\n",
       "      <td>3</td>\n",
       "      <td>1</td>\n",
       "      <td>3</td>\n",
       "      <td>Heikkinen, Miss. Laina</td>\n",
       "      <td>female</td>\n",
       "      <td>26.0</td>\n",
       "      <td>0</td>\n",
       "      <td>0</td>\n",
       "      <td>STON/O2. 3101282</td>\n",
       "      <td>7.9250</td>\n",
       "      <td>NaN</td>\n",
       "      <td>S</td>\n",
       "    </tr>\n",
       "    <tr>\n",
       "      <th>3</th>\n",
       "      <td>4</td>\n",
       "      <td>1</td>\n",
       "      <td>1</td>\n",
       "      <td>Futrelle, Mrs. Jacques Heath (Lily May Peel)</td>\n",
       "      <td>female</td>\n",
       "      <td>35.0</td>\n",
       "      <td>1</td>\n",
       "      <td>0</td>\n",
       "      <td>113803</td>\n",
       "      <td>53.1000</td>\n",
       "      <td>C123</td>\n",
       "      <td>S</td>\n",
       "    </tr>\n",
       "    <tr>\n",
       "      <th>4</th>\n",
       "      <td>5</td>\n",
       "      <td>0</td>\n",
       "      <td>3</td>\n",
       "      <td>Allen, Mr. William Henry</td>\n",
       "      <td>male</td>\n",
       "      <td>35.0</td>\n",
       "      <td>0</td>\n",
       "      <td>0</td>\n",
       "      <td>373450</td>\n",
       "      <td>8.0500</td>\n",
       "      <td>NaN</td>\n",
       "      <td>S</td>\n",
       "    </tr>\n",
       "    <tr>\n",
       "      <th>...</th>\n",
       "      <td>...</td>\n",
       "      <td>...</td>\n",
       "      <td>...</td>\n",
       "      <td>...</td>\n",
       "      <td>...</td>\n",
       "      <td>...</td>\n",
       "      <td>...</td>\n",
       "      <td>...</td>\n",
       "      <td>...</td>\n",
       "      <td>...</td>\n",
       "      <td>...</td>\n",
       "      <td>...</td>\n",
       "    </tr>\n",
       "    <tr>\n",
       "      <th>886</th>\n",
       "      <td>887</td>\n",
       "      <td>0</td>\n",
       "      <td>2</td>\n",
       "      <td>Montvila, Rev. Juozas</td>\n",
       "      <td>male</td>\n",
       "      <td>27.0</td>\n",
       "      <td>0</td>\n",
       "      <td>0</td>\n",
       "      <td>211536</td>\n",
       "      <td>13.0000</td>\n",
       "      <td>NaN</td>\n",
       "      <td>S</td>\n",
       "    </tr>\n",
       "    <tr>\n",
       "      <th>887</th>\n",
       "      <td>888</td>\n",
       "      <td>1</td>\n",
       "      <td>1</td>\n",
       "      <td>Graham, Miss. Margaret Edith</td>\n",
       "      <td>female</td>\n",
       "      <td>19.0</td>\n",
       "      <td>0</td>\n",
       "      <td>0</td>\n",
       "      <td>112053</td>\n",
       "      <td>30.0000</td>\n",
       "      <td>B42</td>\n",
       "      <td>S</td>\n",
       "    </tr>\n",
       "    <tr>\n",
       "      <th>888</th>\n",
       "      <td>889</td>\n",
       "      <td>0</td>\n",
       "      <td>3</td>\n",
       "      <td>Johnston, Miss. Catherine Helen \"Carrie\"</td>\n",
       "      <td>female</td>\n",
       "      <td>NaN</td>\n",
       "      <td>1</td>\n",
       "      <td>2</td>\n",
       "      <td>W./C. 6607</td>\n",
       "      <td>23.4500</td>\n",
       "      <td>NaN</td>\n",
       "      <td>S</td>\n",
       "    </tr>\n",
       "    <tr>\n",
       "      <th>889</th>\n",
       "      <td>890</td>\n",
       "      <td>1</td>\n",
       "      <td>1</td>\n",
       "      <td>Behr, Mr. Karl Howell</td>\n",
       "      <td>male</td>\n",
       "      <td>26.0</td>\n",
       "      <td>0</td>\n",
       "      <td>0</td>\n",
       "      <td>111369</td>\n",
       "      <td>30.0000</td>\n",
       "      <td>C148</td>\n",
       "      <td>C</td>\n",
       "    </tr>\n",
       "    <tr>\n",
       "      <th>890</th>\n",
       "      <td>891</td>\n",
       "      <td>0</td>\n",
       "      <td>3</td>\n",
       "      <td>Dooley, Mr. Patrick</td>\n",
       "      <td>male</td>\n",
       "      <td>32.0</td>\n",
       "      <td>0</td>\n",
       "      <td>0</td>\n",
       "      <td>370376</td>\n",
       "      <td>7.7500</td>\n",
       "      <td>NaN</td>\n",
       "      <td>Q</td>\n",
       "    </tr>\n",
       "  </tbody>\n",
       "</table>\n",
       "<p>891 rows × 12 columns</p>\n",
       "</div>"
      ],
      "text/plain": [
       "     PassengerId  Survived  Pclass  \\\n",
       "0              1         0       3   \n",
       "1              2         1       1   \n",
       "2              3         1       3   \n",
       "3              4         1       1   \n",
       "4              5         0       3   \n",
       "..           ...       ...     ...   \n",
       "886          887         0       2   \n",
       "887          888         1       1   \n",
       "888          889         0       3   \n",
       "889          890         1       1   \n",
       "890          891         0       3   \n",
       "\n",
       "                                                  Name     Sex   Age  SibSp  \\\n",
       "0                              Braund, Mr. Owen Harris    male  22.0      1   \n",
       "1    Cumings, Mrs. John Bradley (Florence Briggs Th...  female  38.0      1   \n",
       "2                               Heikkinen, Miss. Laina  female  26.0      0   \n",
       "3         Futrelle, Mrs. Jacques Heath (Lily May Peel)  female  35.0      1   \n",
       "4                             Allen, Mr. William Henry    male  35.0      0   \n",
       "..                                                 ...     ...   ...    ...   \n",
       "886                              Montvila, Rev. Juozas    male  27.0      0   \n",
       "887                       Graham, Miss. Margaret Edith  female  19.0      0   \n",
       "888           Johnston, Miss. Catherine Helen \"Carrie\"  female   NaN      1   \n",
       "889                              Behr, Mr. Karl Howell    male  26.0      0   \n",
       "890                                Dooley, Mr. Patrick    male  32.0      0   \n",
       "\n",
       "     Parch            Ticket     Fare Cabin Embarked  \n",
       "0        0         A/5 21171   7.2500   NaN        S  \n",
       "1        0          PC 17599  71.2833   C85        C  \n",
       "2        0  STON/O2. 3101282   7.9250   NaN        S  \n",
       "3        0            113803  53.1000  C123        S  \n",
       "4        0            373450   8.0500   NaN        S  \n",
       "..     ...               ...      ...   ...      ...  \n",
       "886      0            211536  13.0000   NaN        S  \n",
       "887      0            112053  30.0000   B42        S  \n",
       "888      2        W./C. 6607  23.4500   NaN        S  \n",
       "889      0            111369  30.0000  C148        C  \n",
       "890      0            370376   7.7500   NaN        Q  \n",
       "\n",
       "[891 rows x 12 columns]"
      ]
     },
     "metadata": {},
     "output_type": "display_data"
    }
   ],
   "source": [
    "df = pd.read_csv(\"titanic.csv\")\n",
    "df"
   ]
  },
  {
   "cell_type": "markdown",
   "id": "fd8ee162",
   "metadata": {},
   "source": [
    "`(1)` `df`의 차원을 확인하는 코드를 작성하세요. "
   ]
  },
  {
   "cell_type": "markdown",
   "id": "0bf71480",
   "metadata": {},
   "source": [
    "`(2)` `df`의 처음 5개의 행을 출력하는 코드를 작성하세요. "
   ]
  },
  {
   "cell_type": "markdown",
   "id": "054f3816",
   "metadata": {},
   "source": [
    "`(3)` `df`의 마지막 5개의 행을 출력하는 코드를 작성하세요. "
   ]
  },
  {
   "cell_type": "markdown",
   "id": "7f330c74",
   "metadata": {},
   "source": [
    "`(4)` `df`의 열을 출력하는 코드를 작성하세요. "
   ]
  },
  {
   "cell_type": "markdown",
   "id": "d9d66d97",
   "metadata": {},
   "source": [
    "`(5)` `train_test_split` 함수를 이용하여 훈련자료와 테스트자료를 5:5로 나누는 코드를 작성하세요. \n",
    "\n",
    "- 단, 이때 테스트자료에서는 변수 \"Survived\"가 제외되어 있어야함. \n",
    "- 훈련자료는 `df_train`으로 테스트자료는 `df_test`로 저장되어 있을 것. "
   ]
  },
  {
   "cell_type": "markdown",
   "id": "3945b26f",
   "metadata": {},
   "source": [
    "`(6)` `df_test`의 처음 5개의 행을 출력해보세요. 승객의 생존유무를 나름의 논리로 추측해보세요. 추측의 결과가 맞는지 확인하는 코드를 제시하세요. \n",
    "\n",
    "**hint**: `df`에서 `df_test`의 인덱스에 해당하는 정보만 출력 (강의노트 p24 참고)"
   ]
  },
  {
   "cell_type": "markdown",
   "id": "9c51d857",
   "metadata": {},
   "source": [
    "`(7)` `df_train`의 성별 생존률을 확인하는 코드를 작성하세요. "
   ]
  },
  {
   "cell_type": "markdown",
   "id": "2bd22703",
   "metadata": {},
   "source": [
    "`(8)` \"남성이면 사망하고, 여성이면 생존한다\"라는 단순한 룰을 적용하여 `df_test`의 `Survived`열을 예측한다면 정확도는 얼마나 될까요?"
   ]
  },
  {
   "cell_type": "markdown",
   "id": "1ae680d0",
   "metadata": {},
   "source": [
    "`(9)` `df_train`에서 10세미만승객의 생존률과 10세이상승객의 생존률을 구하는 코드를 작성하세요."
   ]
  },
  {
   "cell_type": "markdown",
   "id": "8ff65adc",
   "metadata": {},
   "source": [
    "`(10)` `df_train`에서 성별(Sex)과 탑승항구(Embarked)에 따른 생존률을 비교하는 코드를 작성하세요. 즉 아래의 표를 채우세요. \n",
    "\n",
    "|Sex | Embarked| Rate|\n",
    "|:--:|:--:|:--:|\n",
    "|female| C| .|\n",
    "|female| Q| .|\n",
    "|female| S| .|\n",
    "|male| C| .|\n",
    "|male| Q| .|\n",
    "|male| S| .| "
   ]
  },
  {
   "cell_type": "markdown",
   "id": "40a2e29f",
   "metadata": {},
   "source": [
    "`(11)` `df_train`에서 `Sex`, `Pclass` 열을 추출하고 `pd.get_dummies` 함수를 이용하여 원핫인코딩하세요. "
   ]
  },
  {
   "cell_type": "markdown",
   "id": "c3a2cf2c",
   "metadata": {},
   "source": [
    "`(12)` 설명변수로 Sex, Age를 선택한 뒤 아래의 과정에 따라 의사결정나무모델을 훈련하고 성능을 확인하세요. \n",
    "\n",
    "1. 데이터전처리: `X`, `X_test` 생성\n",
    "2. 모형선택: `DecisionTreeClassifier`를 이용하여 의사결정나무 모델을 만들고 `model`변수에 저장\n",
    "3. 적합: `model`의 `.fit`을 이용하여 훈련자료를 적합\n",
    "4. 예측: `model`의 `.predict`를 이용하여 테스트자료를 예측하고 성능확인"
   ]
  },
  {
   "cell_type": "markdown",
   "id": "360f41ef",
   "metadata": {},
   "source": [
    "`(13)` 설명변수로 Sex, Age, Fare 를 선택한 뒤 아래의 과정에 따라 의사결정나무모델을 훈련하고 성능을 확인하세요. \n",
    "\n",
    "1. 데이터전처리: `X`, `X_test` 생성\n",
    "2. 모형선택: `DecisionTreeClassifier`를 이용하여 의사결정나무 모델을 만들고 `model`변수에 저장\n",
    "3. 적합: `model`의 `.fit`을 이용하여 훈련자료를 적합\n",
    "4. 예측: `model`의 `.predict`를 이용하여 테스트자료를 예측하고 성능확인"
   ]
  },
  {
   "cell_type": "markdown",
   "id": "e8f97316",
   "metadata": {},
   "source": [
    "`(14)` 설명변수로 \"Pclass\", \"Sex\", \"Age\", \"SibSp\", \"Parch\", \"Fare\", \"Embarked\"를 선택한 뒤 Autogluon을 이용하여 다양한 모델을 적합하고 성능을 확인하세요. "
   ]
  }
 ],
 "metadata": {
  "kernelspec": {
   "display_name": "Python 3 (ipykernel)",
   "language": "python",
   "name": "python3"
  },
  "language_info": {
   "codemirror_mode": {
    "name": "ipython",
    "version": 3
   },
   "file_extension": ".py",
   "mimetype": "text/x-python",
   "name": "python",
   "nbconvert_exporter": "python",
   "pygments_lexer": "ipython3",
   "version": "3.11.13"
  }
 },
 "nbformat": 4,
 "nbformat_minor": 5
}
